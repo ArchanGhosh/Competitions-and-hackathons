{
  "nbformat": 4,
  "nbformat_minor": 0,
  "metadata": {
    "colab": {
      "name": "Job a thon submission 1.ipynb",
      "provenance": []
    },
    "kernelspec": {
      "name": "python3",
      "display_name": "Python 3"
    },
    "language_info": {
      "name": "python"
    }
  },
  "cells": [
    {
      "cell_type": "code",
      "metadata": {
        "id": "Z0sQRhcVrj1g"
      },
      "source": [
        "import numpy as np \n",
        "import pandas as pd "
      ],
      "execution_count": null,
      "outputs": []
    },
    {
      "cell_type": "code",
      "metadata": {
        "id": "xBRgOdnNsqeO"
      },
      "source": [
        "# Reading the Test and Train Dataset Provided to Us\n",
        "\n",
        "test =  pd.read_csv('/content/test_mSzZ8RL.csv') \n",
        "train = pd.read_csv( '/content/train_s3TEQDk.csv')"
      ],
      "execution_count": null,
      "outputs": []
    },
    {
      "cell_type": "code",
      "metadata": {
        "id": "vZvyO5ThwgeV"
      },
      "source": [
        "# Separating the ID Columns from both the Test and Train Dataset\n",
        "\n",
        "train_id=train['ID']\n",
        "train=train.drop('ID', axis=1)\n",
        "test_id=test['ID']\n",
        "test=test.drop('ID', axis=1)"
      ],
      "execution_count": null,
      "outputs": []
    },
    {
      "cell_type": "code",
      "metadata": {
        "colab": {
          "base_uri": "https://localhost:8080/"
        },
        "id": "9oYnnE8XwvBf",
        "outputId": "89737b0c-429f-4aae-8a16-aacd9681ee17"
      },
      "source": [
        "#Setting the Null Values to a random value that will be later used in the Label encoder\n",
        "\n",
        "train['Credit_Product'][pd.isnull(train['Credit_Product'])] = \"other\"\n",
        "test['Credit_Product'][pd.isnull(test['Credit_Product'])] = \"other\""
      ],
      "execution_count": null,
      "outputs": [
        {
          "output_type": "stream",
          "text": [
            "/usr/local/lib/python3.7/dist-packages/ipykernel_launcher.py:3: SettingWithCopyWarning: \n",
            "A value is trying to be set on a copy of a slice from a DataFrame\n",
            "\n",
            "See the caveats in the documentation: https://pandas.pydata.org/pandas-docs/stable/user_guide/indexing.html#returning-a-view-versus-a-copy\n",
            "  This is separate from the ipykernel package so we can avoid doing imports until\n",
            "/usr/local/lib/python3.7/dist-packages/ipykernel_launcher.py:4: SettingWithCopyWarning: \n",
            "A value is trying to be set on a copy of a slice from a DataFrame\n",
            "\n",
            "See the caveats in the documentation: https://pandas.pydata.org/pandas-docs/stable/user_guide/indexing.html#returning-a-view-versus-a-copy\n",
            "  after removing the cwd from sys.path.\n"
          ],
          "name": "stderr"
        }
      ]
    },
    {
      "cell_type": "code",
      "metadata": {
        "id": "SFCpzM3htzTu"
      },
      "source": [
        "#Importing Label Encoder From SKLearn to encode the Strings value in to categorially encoded data\n",
        "\n",
        "from sklearn.preprocessing  import LabelEncoder \n",
        "\n",
        "le = LabelEncoder()\n",
        "var = ['Gender', 'Region_Code', 'Occupation', 'Channel_Code', 'Credit_Product', 'Is_Active']\n",
        "\n",
        "for i in var:\n",
        "  train[i] = le.fit_transform(train[i])\n",
        "  test[i] = le.fit_transform(test[i])"
      ],
      "execution_count": null,
      "outputs": []
    },
    {
      "cell_type": "code",
      "metadata": {
        "colab": {
          "base_uri": "https://localhost:8080/"
        },
        "id": "j0TViZqVu_G7",
        "outputId": "0d9884d1-209a-4f8d-d5ee-e44ba2092cde"
      },
      "source": [
        "train.info()"
      ],
      "execution_count": null,
      "outputs": [
        {
          "output_type": "stream",
          "text": [
            "<class 'pandas.core.frame.DataFrame'>\n",
            "RangeIndex: 245725 entries, 0 to 245724\n",
            "Data columns (total 10 columns):\n",
            " #   Column               Non-Null Count   Dtype\n",
            "---  ------               --------------   -----\n",
            " 0   Gender               245725 non-null  int64\n",
            " 1   Age                  245725 non-null  int64\n",
            " 2   Region_Code          245725 non-null  int64\n",
            " 3   Occupation           245725 non-null  int64\n",
            " 4   Channel_Code         245725 non-null  int64\n",
            " 5   Vintage              245725 non-null  int64\n",
            " 6   Credit_Product       245725 non-null  int64\n",
            " 7   Avg_Account_Balance  245725 non-null  int64\n",
            " 8   Is_Active            245725 non-null  int64\n",
            " 9   Is_Lead              245725 non-null  int64\n",
            "dtypes: int64(10)\n",
            "memory usage: 18.7 MB\n"
          ],
          "name": "stdout"
        }
      ]
    },
    {
      "cell_type": "code",
      "metadata": {
        "colab": {
          "base_uri": "https://localhost:8080/",
          "height": 204
        },
        "id": "M9wa8hZawcoX",
        "outputId": "fc40da21-6e0c-4155-dea8-3aa0f8e3d136"
      },
      "source": [
        "train.head()"
      ],
      "execution_count": null,
      "outputs": [
        {
          "output_type": "execute_result",
          "data": {
            "text/html": [
              "<div>\n",
              "<style scoped>\n",
              "    .dataframe tbody tr th:only-of-type {\n",
              "        vertical-align: middle;\n",
              "    }\n",
              "\n",
              "    .dataframe tbody tr th {\n",
              "        vertical-align: top;\n",
              "    }\n",
              "\n",
              "    .dataframe thead th {\n",
              "        text-align: right;\n",
              "    }\n",
              "</style>\n",
              "<table border=\"1\" class=\"dataframe\">\n",
              "  <thead>\n",
              "    <tr style=\"text-align: right;\">\n",
              "      <th></th>\n",
              "      <th>Gender</th>\n",
              "      <th>Age</th>\n",
              "      <th>Region_Code</th>\n",
              "      <th>Occupation</th>\n",
              "      <th>Channel_Code</th>\n",
              "      <th>Vintage</th>\n",
              "      <th>Credit_Product</th>\n",
              "      <th>Avg_Account_Balance</th>\n",
              "      <th>Is_Active</th>\n",
              "      <th>Is_Lead</th>\n",
              "    </tr>\n",
              "  </thead>\n",
              "  <tbody>\n",
              "    <tr>\n",
              "      <th>0</th>\n",
              "      <td>0</td>\n",
              "      <td>73</td>\n",
              "      <td>18</td>\n",
              "      <td>1</td>\n",
              "      <td>2</td>\n",
              "      <td>43</td>\n",
              "      <td>0</td>\n",
              "      <td>1045696</td>\n",
              "      <td>0</td>\n",
              "      <td>0</td>\n",
              "    </tr>\n",
              "    <tr>\n",
              "      <th>1</th>\n",
              "      <td>0</td>\n",
              "      <td>30</td>\n",
              "      <td>27</td>\n",
              "      <td>2</td>\n",
              "      <td>0</td>\n",
              "      <td>32</td>\n",
              "      <td>0</td>\n",
              "      <td>581988</td>\n",
              "      <td>0</td>\n",
              "      <td>0</td>\n",
              "    </tr>\n",
              "    <tr>\n",
              "      <th>2</th>\n",
              "      <td>0</td>\n",
              "      <td>56</td>\n",
              "      <td>18</td>\n",
              "      <td>3</td>\n",
              "      <td>2</td>\n",
              "      <td>26</td>\n",
              "      <td>0</td>\n",
              "      <td>1484315</td>\n",
              "      <td>1</td>\n",
              "      <td>0</td>\n",
              "    </tr>\n",
              "    <tr>\n",
              "      <th>3</th>\n",
              "      <td>1</td>\n",
              "      <td>34</td>\n",
              "      <td>20</td>\n",
              "      <td>2</td>\n",
              "      <td>0</td>\n",
              "      <td>19</td>\n",
              "      <td>0</td>\n",
              "      <td>470454</td>\n",
              "      <td>0</td>\n",
              "      <td>0</td>\n",
              "    </tr>\n",
              "    <tr>\n",
              "      <th>4</th>\n",
              "      <td>0</td>\n",
              "      <td>30</td>\n",
              "      <td>32</td>\n",
              "      <td>2</td>\n",
              "      <td>0</td>\n",
              "      <td>33</td>\n",
              "      <td>0</td>\n",
              "      <td>886787</td>\n",
              "      <td>0</td>\n",
              "      <td>0</td>\n",
              "    </tr>\n",
              "  </tbody>\n",
              "</table>\n",
              "</div>"
            ],
            "text/plain": [
              "   Gender  Age  Region_Code  ...  Avg_Account_Balance  Is_Active  Is_Lead\n",
              "0       0   73           18  ...              1045696          0        0\n",
              "1       0   30           27  ...               581988          0        0\n",
              "2       0   56           18  ...              1484315          1        0\n",
              "3       1   34           20  ...               470454          0        0\n",
              "4       0   30           32  ...               886787          0        0\n",
              "\n",
              "[5 rows x 10 columns]"
            ]
          },
          "metadata": {
            "tags": []
          },
          "execution_count": 7
        }
      ]
    },
    {
      "cell_type": "code",
      "metadata": {
        "id": "duKgeJR8xn8d"
      },
      "source": [
        "#Redistributing the Prediction Column from the Train dataset in X and Y train\n",
        "\n",
        "\n",
        "ytrain=train['Is_Lead'].values\n",
        "xtrain=train.drop(['Is_Lead'], axis=1)"
      ],
      "execution_count": null,
      "outputs": []
    },
    {
      "cell_type": "code",
      "metadata": {
        "id": "_0RnE_0pJhno"
      },
      "source": [
        "#forming a New Numpy array of the individual X and Y train\n",
        "\n",
        "\n",
        "X = train.drop(['Is_Lead', 'Vintage', 'Avg_Account_Balance'], axis=1).values\n",
        "y = train['Is_Lead'].values\n",
        "X_test = test.drop(['Vintage', 'Avg_Account_Balance'], axis=1).values\n",
        "\n"
      ],
      "execution_count": null,
      "outputs": []
    },
    {
      "cell_type": "code",
      "metadata": {
        "id": "opAqB2_-nsJH"
      },
      "source": [
        "\n",
        "from sklearn.preprocessing import MaxAbsScaler\n",
        "\n",
        "transformer = MaxAbsScaler().fit(X)\n",
        "X = transformer.transform(X)\n",
        "X_test = transformer.transform(X_test)"
      ],
      "execution_count": null,
      "outputs": []
    },
    {
      "cell_type": "code",
      "metadata": {
        "id": "sIPDViGGys_i"
      },
      "source": [
        "#importing Stratified K fold and LightGBM for model Formation\n",
        "\n",
        "from sklearn.model_selection import StratifiedKFold\n",
        "\n",
        "import lightgbm as lgb\n",
        "\n",
        "skf = StratifiedKFold(n_splits=10, shuffle=True, random_state=42)\n",
        "params = {'n_estimators': 20000, 'n_jobs': -1, 'random_state': 2, 'learning_rate': 0.012564209621859385, 'colsample_bytree': 0.48762749309989595}\n",
        "\n",
        "model = lgb.LGBMClassifier(**params)\n"
      ],
      "execution_count": null,
      "outputs": []
    },
    {
      "cell_type": "code",
      "metadata": {
        "colab": {
          "base_uri": "https://localhost:8080/"
        },
        "id": "GscSgBS8J9XD",
        "outputId": "de60ffbd-3848-47ec-ad4a-8bd2a0f21def"
      },
      "source": [
        "np.unique(y)"
      ],
      "execution_count": null,
      "outputs": [
        {
          "output_type": "execute_result",
          "data": {
            "text/plain": [
              "array([0, 1])"
            ]
          },
          "metadata": {
            "tags": []
          },
          "execution_count": 11
        }
      ]
    },
    {
      "cell_type": "code",
      "metadata": {
        "colab": {
          "base_uri": "https://localhost:8080/"
        },
        "id": "3y-j0byKLXEz",
        "outputId": "8a99c59b-23a2-42a4-a42b-c0a4e25633a1"
      },
      "source": [
        "X_test"
      ],
      "execution_count": null,
      "outputs": [
        {
          "output_type": "execute_result",
          "data": {
            "text/plain": [
              "array([[1.        , 0.34117647, 0.11764706, ..., 0.        , 0.5       ,\n",
              "        0.        ],\n",
              "       [1.        , 0.50588235, 0.52941176, ..., 0.33333333, 1.        ,\n",
              "        0.        ],\n",
              "       [1.        , 0.36470588, 0.58823529, ..., 0.        , 0.        ,\n",
              "        0.        ],\n",
              "       ...,\n",
              "       [1.        , 0.41176471, 0.11764706, ..., 1.        , 0.        ,\n",
              "        0.        ],\n",
              "       [1.        , 0.62352941, 0.11764706, ..., 0.66666667, 0.        ,\n",
              "        1.        ],\n",
              "       [1.        , 0.31764706, 0.17647059, ..., 0.        , 0.        ,\n",
              "        0.        ]])"
            ]
          },
          "metadata": {
            "tags": []
          },
          "execution_count": 12
        }
      ]
    },
    {
      "cell_type": "code",
      "metadata": {
        "colab": {
          "base_uri": "https://localhost:8080/"
        },
        "id": "3twA_NGjG6Y9",
        "outputId": "e496f962-88be-4d7f-c378-cc8b5df0a144"
      },
      "source": [
        "#Training the model\n",
        "\n",
        "predictions = np.zeros(test.shape[0])\n",
        "\n",
        "for i, (train_id, valid_id) in enumerate(skf.split(xtrain,ytrain)):\n",
        "    print(\"fold \", i)  \n",
        "    X_train, y_train = X[train_id], y[train_id]\n",
        "    X_valid, y_valid = X[valid_id], y[valid_id]\n",
        "    model.fit(X_train, y_train, eval_set =[(X_valid, y_valid)],  early_stopping_rounds=200, verbose=1000, eval_metric='auc')\n",
        "\n",
        "    predictions += model.predict_proba(X_test)[:,1]"
      ],
      "execution_count": null,
      "outputs": [
        {
          "output_type": "stream",
          "text": [
            "fold  0\n",
            "Training until validation scores don't improve for 200 rounds.\n",
            "[1000]\tvalid_0's auc: 0.866917\tvalid_0's binary_logloss: 0.350265\n",
            "Early stopping, best iteration is:\n",
            "[1301]\tvalid_0's auc: 0.867079\tvalid_0's binary_logloss: 0.349805\n",
            "fold  1\n",
            "Training until validation scores don't improve for 200 rounds.\n",
            "[1000]\tvalid_0's auc: 0.867879\tvalid_0's binary_logloss: 0.350229\n",
            "Early stopping, best iteration is:\n",
            "[1088]\tvalid_0's auc: 0.867949\tvalid_0's binary_logloss: 0.350027\n",
            "fold  2\n",
            "Training until validation scores don't improve for 200 rounds.\n",
            "[1000]\tvalid_0's auc: 0.864471\tvalid_0's binary_logloss: 0.354222\n",
            "[2000]\tvalid_0's auc: 0.864833\tvalid_0's binary_logloss: 0.353551\n",
            "Early stopping, best iteration is:\n",
            "[2102]\tvalid_0's auc: 0.864846\tvalid_0's binary_logloss: 0.353529\n",
            "fold  3\n",
            "Training until validation scores don't improve for 200 rounds.\n",
            "[1000]\tvalid_0's auc: 0.862879\tvalid_0's binary_logloss: 0.354019\n",
            "Early stopping, best iteration is:\n",
            "[1098]\tvalid_0's auc: 0.86296\tvalid_0's binary_logloss: 0.353821\n",
            "fold  4\n",
            "Training until validation scores don't improve for 200 rounds.\n",
            "[1000]\tvalid_0's auc: 0.867777\tvalid_0's binary_logloss: 0.350223\n",
            "Early stopping, best iteration is:\n",
            "[1178]\tvalid_0's auc: 0.867799\tvalid_0's binary_logloss: 0.34994\n",
            "fold  5\n",
            "Training until validation scores don't improve for 200 rounds.\n",
            "[1000]\tvalid_0's auc: 0.863957\tvalid_0's binary_logloss: 0.354394\n",
            "Early stopping, best iteration is:\n",
            "[1263]\tvalid_0's auc: 0.864005\tvalid_0's binary_logloss: 0.354082\n",
            "fold  6\n",
            "Training until validation scores don't improve for 200 rounds.\n",
            "[1000]\tvalid_0's auc: 0.866971\tvalid_0's binary_logloss: 0.353324\n",
            "Early stopping, best iteration is:\n",
            "[1363]\tvalid_0's auc: 0.867094\tvalid_0's binary_logloss: 0.352953\n",
            "fold  7\n",
            "Training until validation scores don't improve for 200 rounds.\n",
            "[1000]\tvalid_0's auc: 0.86672\tvalid_0's binary_logloss: 0.352097\n",
            "Early stopping, best iteration is:\n",
            "[1226]\tvalid_0's auc: 0.866787\tvalid_0's binary_logloss: 0.351706\n",
            "fold  8\n",
            "Training until validation scores don't improve for 200 rounds.\n",
            "[1000]\tvalid_0's auc: 0.863353\tvalid_0's binary_logloss: 0.35422\n",
            "Early stopping, best iteration is:\n",
            "[1268]\tvalid_0's auc: 0.863492\tvalid_0's binary_logloss: 0.353946\n",
            "fold  9\n",
            "Training until validation scores don't improve for 200 rounds.\n",
            "[1000]\tvalid_0's auc: 0.869144\tvalid_0's binary_logloss: 0.350114\n",
            "[2000]\tvalid_0's auc: 0.869595\tvalid_0's binary_logloss: 0.349105\n",
            "Early stopping, best iteration is:\n",
            "[1904]\tvalid_0's auc: 0.869612\tvalid_0's binary_logloss: 0.349118\n"
          ],
          "name": "stdout"
        }
      ]
    },
    {
      "cell_type": "code",
      "metadata": {
        "id": "dWDz15T9Hz4D"
      },
      "source": [
        "#final prediction value is calculated \n",
        "\n",
        "finals = predictions/5"
      ],
      "execution_count": null,
      "outputs": []
    },
    {
      "cell_type": "code",
      "metadata": {
        "id": "shdKVqWDyzPz"
      },
      "source": [
        "lgb_pred = model.predict(test)"
      ],
      "execution_count": null,
      "outputs": []
    },
    {
      "cell_type": "code",
      "metadata": {
        "id": "3RF-YdxGzMbK"
      },
      "source": [
        "#Forming the final submission CSV File\n",
        "\n",
        "\n",
        "df = pd.DataFrame()\n",
        "df['ID']=test_id\n",
        "df['Is_Lead']=finals\n",
        "df.to_csv('file_name.csv', index=False)"
      ],
      "execution_count": null,
      "outputs": []
    },
    {
      "cell_type": "code",
      "metadata": {
        "id": "SV8ij_KVzPbO"
      },
      "source": [
        ""
      ],
      "execution_count": null,
      "outputs": []
    }
  ]
}